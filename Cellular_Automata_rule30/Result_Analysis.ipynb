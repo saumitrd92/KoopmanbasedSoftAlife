{
 "cells": [
  {
   "cell_type": "code",
   "execution_count": 7,
   "metadata": {},
   "outputs": [],
   "source": [
    "import os\n",
    "from datetime import datetime\n",
    "import tensorboard\n",
    "from keras.callbacks import TensorBoard\n",
    "from keras.models import Model\n",
    "import numpy as np\n",
    "from Experiments import network as net\n",
    "from Experiments import data_prep as dp\n",
    "import argparse\n",
    "import matplotlib.pyplot as plt\n"
   ]
  },
  {
   "cell_type": "code",
   "execution_count": 8,
   "metadata": {},
   "outputs": [],
   "source": [
    "params={}\n",
    "\n",
    "### Experiment Parameters ###\n",
    "\n",
    "params['state_features'] = 1\n",
    "\n",
    "### Hyper Parameters ###\n",
    "params['hp_num_neighbors'] = 2\n",
    "\n",
    "params['hp_num_complex_pairs'] = 3\n",
    "params['hp_num_real'] = 3\n",
    "\n",
    "params['hp_beta_units'] = 4\n",
    "\n",
    "enc_dec_size = 16\n",
    "params['hp_phi_enc_units'] = enc_dec_size\n",
    "params['hp_psi_enc_units'] = enc_dec_size\n",
    "params['hp_psi_dec_units'] = enc_dec_size\n",
    "\n",
    "params['hp_delta_units'] = 8\n",
    "\n",
    "l1_reg = 1e-16\n",
    "params['hp_l1_reg'] = l1_reg\n",
    "params['hp_l2_reg'] = l1_reg*1e-2"
   ]
  },
  {
   "cell_type": "code",
   "execution_count": 9,
   "metadata": {},
   "outputs": [],
   "source": [
    "ae, pipeline = net.pipeline(params)"
   ]
  },
  {
   "cell_type": "code",
   "execution_count": 10,
   "metadata": {},
   "outputs": [],
   "source": [
    "pipeline.load_weights(\"Experiments/Realizations/20231106-142833_pipeline.h5\")"
   ]
  },
  {
   "cell_type": "code",
   "execution_count": 11,
   "metadata": {},
   "outputs": [],
   "source": [
    "x = np.array([1,1,0,0,1,1,0,0])\n",
    "x_neigh = np.array([[1,1],[1,0],[1,1],[1,0],[0,1],[0,0],[0,1],[0,0]])"
   ]
  },
  {
   "cell_type": "code",
   "execution_count": 12,
   "metadata": {},
   "outputs": [
    {
     "data": {
      "text/plain": [
       "array([[1.0000000e+00],\n",
       "       [1.0000000e+00],\n",
       "       [7.1525574e-07],\n",
       "       [9.9999845e-01],\n",
       "       [6.1094761e-06],\n",
       "       [6.1690807e-06],\n",
       "       [9.9999845e-01],\n",
       "       [6.5565109e-07]], dtype=float32)"
      ]
     },
     "execution_count": 12,
     "metadata": {},
     "output_type": "execute_result"
    }
   ],
   "source": [
    "pipeline.predict([x,x_neigh])"
   ]
  },
  {
   "cell_type": "code",
   "execution_count": 13,
   "metadata": {},
   "outputs": [],
   "source": [
    "spin = np.where(pipeline.predict([x,x_neigh]) > 0.5 ,1,0)"
   ]
  },
  {
   "cell_type": "code",
   "execution_count": 14,
   "metadata": {},
   "outputs": [
    {
     "data": {
      "text/plain": [
       "array([[1],\n",
       "       [1],\n",
       "       [0],\n",
       "       [1],\n",
       "       [0],\n",
       "       [0],\n",
       "       [1],\n",
       "       [0]])"
      ]
     },
     "execution_count": 14,
     "metadata": {},
     "output_type": "execute_result"
    }
   ],
   "source": [
    "spin"
   ]
  },
  {
   "cell_type": "code",
   "execution_count": 15,
   "metadata": {},
   "outputs": [
    {
     "data": {
      "text/plain": [
       "array([[0, 0, 0, 1, 1, 1, 1, 0]])"
      ]
     },
     "execution_count": 15,
     "metadata": {},
     "output_type": "execute_result"
    }
   ],
   "source": [
    "new_x = np.logical_xor(x,np.transpose((spin))).astype(int)\n",
    "new_x"
   ]
  },
  {
   "cell_type": "code",
   "execution_count": 16,
   "metadata": {},
   "outputs": [
    {
     "data": {
      "text/plain": [
       "[<keras.engine.input_layer.InputLayer at 0x20ffece5bc8>,\n",
       " <keras.engine.input_layer.InputLayer at 0x20f89fba208>,\n",
       " <keras.engine.training.Model at 0x20f8a018ac8>,\n",
       " <keras.engine.training.Model at 0x20f8a0612c8>,\n",
       " <keras.engine.training.Model at 0x20f8a4703c8>]"
      ]
     },
     "execution_count": 16,
     "metadata": {},
     "output_type": "execute_result"
    }
   ],
   "source": [
    "pipeline.layers"
   ]
  },
  {
   "cell_type": "code",
   "execution_count": 77,
   "metadata": {},
   "outputs": [],
   "source": [
    "x = np.array([1,1,0,0,1,1,0,0])\n",
    "x_neigh = np.array([[1,1],[1,0],[1,1],[1,0],[0,1],[0,0],[0,1],[0,0]])\n",
    "neigh_color=np.array(['blue','yellow','blue','yellow','green','red','green','red'])\n",
    "neigh_setting = np.array([3,2,3,2,1,0,1,0])"
   ]
  },
  {
   "cell_type": "code",
   "execution_count": null,
   "metadata": {},
   "outputs": [],
   "source": []
  },
  {
   "cell_type": "code",
   "execution_count": 81,
   "metadata": {},
   "outputs": [
    {
     "data": {
      "image/png": "[encoded data removed]",
      "text/plain": [
       "<Figure size 504x504 with 1 Axes>"
      ]
     },
     "metadata": {
      "needs_background": "light"
     },
     "output_type": "display_data"
    }
   ],
   "source": [
    "myencoding = Model(inputs=pipeline.input, outputs=pipeline.layers[2].get_output_at(-1))\n",
    "encoded_info = myencoding.predict([x,x_neigh])\n",
    "\n",
    "mypostkoopmanencoding = Model(inputs=pipeline.input, outputs=pipeline.layers[3].get_output_at(-1))\n",
    "mypostkoopmanencoded_info = mypostkoopmanencoding.predict([x,x_neigh])\n",
    "\n",
    "# use colormap\n",
    "colormap = np.array(['red','blue']) # For Not-Spin/Spin \n",
    "markermap = np.array([\"o\",\"s\",\"D\",\"p\"])\n",
    "hatchmap = np.array([\"\",\"+\"])\n",
    "fig = plt.figure(figsize=(7,7))\n",
    "# ax = fig.add_subplot(projection='3d')\n",
    "for i in range(len(x)):\n",
    "    plt.scatter(encoded_info[i,6],encoded_info[i,8], s=1000, marker=markermap[x[i]], hatch=hatchmap[spin[i]][0],c='grey')\n",
    "    # plt.scatter(mypostkoopmanencoded_info[i,8],mypostkoopmanencoded_info[i,6],  s=800, c=colormap[spin[i]], marker=markermap[x[i]], hatch='|||')\n",
    "plt.savefig('CArule30_koopman_invariant_subspace_dynamics.png')"
   ]
  },
  {
   "cell_type": "code",
   "execution_count": 102,
   "metadata": {},
   "outputs": [
    {
     "data": {
      "image/png": "[encoded data removed]",
      "text/plain": [
       "<Figure size 432x288 with 1 Axes>"
      ]
     },
     "metadata": {
      "needs_background": "light"
     },
     "output_type": "display_data"
    }
   ],
   "source": [
    "for i in range(len(x)):\n",
    "    plt.scatter(neigh_setting[i],encoded_info[i,8], s=500, marker=markermap[x[i]], hatch=hatchmap[spin[i]][0], c='grey', label=x[i])\n",
    "\n",
    "plt.xlabel('Neighbourhood Settings')\n",
    "plt.ylabel('K-Invariant Subspace')\n",
    "plt.savefig('CArule30_koopman_invariant_subspace_dynamics.png')"
   ]
  },
  {
   "cell_type": "code",
   "execution_count": null,
   "metadata": {},
   "outputs": [],
   "source": []
  },
  {
   "cell_type": "code",
   "execution_count": 41,
   "metadata": {},
   "outputs": [
    {
     "data": {
      "text/plain": [
       "Text(0.5, 0, 'Cell')"
      ]
     },
     "execution_count": 41,
     "metadata": {},
     "output_type": "execute_result"
    },
    {
     "data": {
      "image/png": "[encoded data removed]",
      "text/plain": [
       "<Figure size 432x288 with 1 Axes>"
      ]
     },
     "metadata": {
      "needs_background": "light"
     },
     "output_type": "display_data"
    }
   ],
   "source": [
    "fig = plt.figure()\n",
    "ax = fig.add_subplot(projection='3d')\n",
    "ax.scatter(np.array([3,2,3,2,1,0,1,0]),encoded_info[:,8],x,c=colormap[spin.reshape(8)])\n",
    "ax.set_xlabel('Neighbours')\n",
    "ax.set_ylabel('Koopman Encoded')\n",
    "ax.set_zlabel('Cell')"
   ]
  },
  {
   "cell_type": "code",
   "execution_count": 30,
   "metadata": {},
   "outputs": [
    {
     "name": "stdout",
     "output_type": "stream",
     "text": [
      "0.010932222\n",
      "0.016470592\n",
      "0.044860333\n",
      "0.0022374564\n",
      "0.019719586\n",
      "0.0123596005\n",
      "0.027754735\n",
      "0.0039063063\n",
      "0.06111119\n"
     ]
    }
   ],
   "source": [
    "for i in range(9):\n",
    "    print(np.var(encoded_info[:,i]))"
   ]
  },
  {
   "cell_type": "code",
   "execution_count": 22,
   "metadata": {},
   "outputs": [],
   "source": [
    "mylambda = Model(inputs=pipeline.input, outputs=pipeline.layers[3].get_output_at(-1))\n",
    "lambda_info = mylambda.predict([x,x_neigh])"
   ]
  },
  {
   "cell_type": "code",
   "execution_count": 23,
   "metadata": {},
   "outputs": [
    {
     "name": "stdout",
     "output_type": "stream",
     "text": [
      "0.26693103 + i 0.2908813\n",
      "0.26699606 + i 0.29093713\n",
      "0.07043494 + i -0.039103653\n",
      "0.18493325 + i 0.017777272\n",
      "0.2588566 + i 0.14337741\n",
      "0.2588548 + i 0.14336433\n",
      "0.18493325 + i 0.017777272\n",
      "0.07078626 + i -0.038911957\n"
     ]
    }
   ],
   "source": [
    "l=[]\n",
    "for j in range(8):\n",
    "    for i in range(1):\n",
    "        if i<1:\n",
    "            print(lambda_info[j,i*2],\"+ i\",lambda_info[j,i*2+1])\n",
    "            l.append([lambda_info[j,i*2],lambda_info[j,i*2+1]])\n",
    "        else:\n",
    "            print(lambda_info[j,i],\"+ i 0\")\n",
    "            l.append([lambda_info[j,i],0])\n",
    "l=np.asarray(l)"
   ]
  },
  {
   "cell_type": "code",
   "execution_count": 24,
   "metadata": {},
   "outputs": [
    {
     "data": {
      "text/plain": [
       "(8, 2)"
      ]
     },
     "execution_count": 24,
     "metadata": {},
     "output_type": "execute_result"
    }
   ],
   "source": [
    "l.shape"
   ]
  },
  {
   "cell_type": "code",
   "execution_count": 25,
   "metadata": {},
   "outputs": [
    {
     "data": {
      "image/png": "[encoded data removed]",
      "text/plain": [
       "<Figure size 432x288 with 1 Axes>"
      ]
     },
     "metadata": {
      "needs_background": "light"
     },
     "output_type": "display_data"
    }
   ],
   "source": [
    "colormap = np.array(['red','blue','yellow','violet','green','grey','cyan','pink'])\n",
    "for i in range(8):\n",
    "    plt.scatter(l[8*i:8*(i+1),1],l[8*i:8*(i+1),0])"
   ]
  },
  {
   "cell_type": "code",
   "execution_count": 26,
   "metadata": {},
   "outputs": [
    {
     "data": {
      "text/plain": [
       "[<keras.engine.input_layer.InputLayer at 0x20ffece5bc8>,\n",
       " <keras.engine.input_layer.InputLayer at 0x20f89fba208>,\n",
       " <keras.engine.training.Model at 0x20f8a018ac8>,\n",
       " <keras.engine.training.Model at 0x20f8a0612c8>,\n",
       " <keras.engine.training.Model at 0x20f8a4703c8>]"
      ]
     },
     "execution_count": 26,
     "metadata": {},
     "output_type": "execute_result"
    }
   ],
   "source": [
    "pipeline.layers"
   ]
  },
  {
   "cell_type": "code",
   "execution_count": 27,
   "metadata": {},
   "outputs": [
    {
     "data": {
      "text/plain": [
       "[<keras.engine.input_layer.InputLayer at 0x20f89fba208>,\n",
       " <keras.layers.core.Dense at 0x20ffec32648>,\n",
       " <keras.layers.core.Dense at 0x20f89fdd8c8>,\n",
       " <keras.engine.input_layer.InputLayer at 0x20ffece5bc8>,\n",
       " <keras.layers.advanced_activations.LeakyReLU at 0x20f89fc70c8>,\n",
       " <keras.layers.core.Lambda at 0x20f89fdd988>,\n",
       " <keras.layers.core.Dense at 0x20f89fe5948>,\n",
       " <keras.layers.core.Dense at 0x20f89fe9dc8>,\n",
       " <keras.layers.core.Dense at 0x20f8a018a08>,\n",
       " <keras.layers.advanced_activations.LeakyReLU at 0x20f8a002908>]"
      ]
     },
     "execution_count": 27,
     "metadata": {},
     "output_type": "execute_result"
    }
   ],
   "source": [
    "pipeline.layers[2].layers"
   ]
  },
  {
   "cell_type": "code",
   "execution_count": 28,
   "metadata": {},
   "outputs": [
    {
     "data": {
      "text/plain": [
       "[<keras.engine.input_layer.InputLayer at 0x20f8a05af88>,\n",
       " <keras.layers.core.Lambda at 0x20f8a061188>]"
      ]
     },
     "execution_count": 28,
     "metadata": {},
     "output_type": "execute_result"
    }
   ],
   "source": [
    "pipeline.layers[3].layers"
   ]
  },
  {
   "cell_type": "code",
   "execution_count": 29,
   "metadata": {},
   "outputs": [
    {
     "name": "stdout",
     "output_type": "stream",
     "text": [
      "Num GPUs Available:  0\n"
     ]
    },
    {
     "data": {
      "text/plain": [
       "False"
      ]
     },
     "execution_count": 29,
     "metadata": {},
     "output_type": "execute_result"
    }
   ],
   "source": [
    "import tensorflow as tf\n",
    "print(\"Num GPUs Available: \", len(tf.config.experimental.list_physical_devices('GPU')))\n",
    "tf.test.is_gpu_available()"
   ]
  }
 ],
 "metadata": {
  "kernelspec": {
   "display_name": "python_37",
   "language": "python",
   "name": "python3"
  },
  "language_info": {
   "codemirror_mode": {
    "name": "ipython",
    "version": 3
   },
   "file_extension": ".py",
   "mimetype": "text/x-python",
   "name": "python",
   "nbconvert_exporter": "python",
   "pygments_lexer": "ipython3",
   "version": "3.7.9"
  },
  "orig_nbformat": 4
 },
 "nbformat": 4,
 "nbformat_minor": 2
}
