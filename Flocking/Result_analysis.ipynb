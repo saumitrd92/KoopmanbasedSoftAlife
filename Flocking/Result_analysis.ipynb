{
 "cells": [
  {
   "cell_type": "code",
   "execution_count": 1,
   "metadata": {},
   "outputs": [
    {
     "name": "stderr",
     "output_type": "stream",
     "text": [
      "Using TensorFlow backend.\n"
     ]
    }
   ],
   "source": [
    "# import tensorflow as tf\n",
    "# from keras.models import Model, load_model, Sequential\n",
    "# from keras.layers import Input, Dense, Flatten, Reshape, Dropout, Lambda, Embedding, InputLayer, Concatenate, Reshape, LeakyReLU\n",
    "# from keras.regularizers import L1L2\n",
    "# from keras.optimizers import Adam\n",
    "# from keras.utils import to_categorical\n",
    "# from keras.utils.vis_utils import plot_model\n",
    "# import keras.backend as K\n",
    "# from keras.callbacks import TensorBoard\n",
    "import numpy as np\n",
    "import pandas as pd\n",
    "import matplotlib.pyplot as plt\n",
    "from datetime import datetime\n",
    "from packaging import version\n",
    "# import tensorboard\n",
    "# tensorboard.__version__\n",
    "from sklearn.neighbors import NearestNeighbors\n",
    "import warnings\n",
    "warnings.filterwarnings(\"ignore\")\n",
    "import seaborn as sns\n",
    "from scipy import stats\n",
    "\n",
    "from EM import network as net\n",
    "from EM import data_prep\n",
    "import json\n",
    "from pathlib import Path\n",
    "import os\n",
    "from PIL import Image\n",
    "import cv2\n",
    "from joblib import Parallel, delayed"
   ]
  },
  {
   "cell_type": "code",
   "execution_count": null,
   "metadata": {},
   "outputs": [],
   "source": []
  },
  {
   "cell_type": "code",
   "execution_count": 2,
   "metadata": {},
   "outputs": [
    {
     "name": "stdout",
     "output_type": "stream",
     "text": [
      "The best score is 1 and the current score is 0.005912798254590745 and the current ID trial_00\n",
      "The best score is 0.005912798254590745 and the current score is 0.0034767277256557436 and the current ID trial_01\n",
      "The best score is 0.0034767277256557436 and the current score is 0.004177083423586957 and the current ID trial_02\n",
      "The best score is 0.0034767277256557436 and the current score is 0.0065391240923693686 and the current ID trial_03\n",
      "The best score is 0.0034767277256557436 and the current score is 0.005224830724976279 and the current ID trial_04\n",
      "The best score is 0.0034767277256557436 and the current score is 0.003850398241833906 and the current ID trial_05\n",
      "The best score is 0.0034767277256557436 and the current score is 0.006186019756238569 and the current ID trial_06\n",
      "The best score is 0.0034767277256557436 and the current score is 0.004942990293858027 and the current ID trial_07\n",
      "The best score is 0.0034767277256557436 and the current score is 0.0035487531397416436 and the current ID trial_08\n",
      "The best score is 0.0034767277256557436 and the current score is 0.003804030249629057 and the current ID trial_09\n",
      "The best score is 0.0034767277256557436 and the current score is 0.005584069649980526 and the current ID trial_10\n",
      "The best score is 0.0034767277256557436 and the current score is 0.0035657211456146805 and the current ID trial_11\n",
      "The best score is 0.0034767277256557436 and the current score is 0.00387269567058544 and the current ID trial_12\n",
      "The best score is 0.0034767277256557436 and the current score is 0.003598274119819204 and the current ID trial_13\n",
      "The best score is 0.0034767277256557436 and the current score is 0.004206453497060622 and the current ID trial_14\n",
      "The best score is 0.0034767277256557436 and the current score is 0.0039807873627528394 and the current ID trial_15\n",
      "The best score is 0.0034767277256557436 and the current score is 0.004623136135062786 and the current ID trial_16\n",
      "The best score is 0.0034767277256557436 and the current score is 0.0061031006643492165 and the current ID trial_17\n",
      "The best score is 0.0034767277256557436 and the current score is 0.0035123027005054134 and the current ID trial_18\n",
      "The best score is 0.0034767277256557436 and the current score is 0.003375413406621477 and the current ID trial_19\n",
      "The best score is 0.003375413406621477 and the current score is 0.0066272639199113 and the current ID trial_20\n",
      "The best score is 0.003375413406621477 and the current score is 0.004915027716902621 and the current ID trial_21\n",
      "The best score is 0.003375413406621477 and the current score is 0.006441562845738548 and the current ID trial_22\n",
      "The best score is 0.003375413406621477 and the current score is 0.0041800452386866315 and the current ID trial_23\n",
      "The best score is 0.003375413406621477 and the current score is 0.12187017538029739 and the current ID trial_24\n",
      "The best score is 0.003375413406621477 and the current score is 0.0034274925981093237 and the current ID trial_25\n",
      "The best score is 0.003375413406621477 and the current score is 0.004302598651253966 and the current ID trial_26\n",
      "The best score is 0.003375413406621477 and the current score is 0.004224366677755659 and the current ID trial_27\n",
      "The best score is 0.003375413406621477 and the current score is 0.003623267494593606 and the current ID trial_28\n",
      "The best score is 0.003375413406621477 and the current score is 0.0033334294155315317 and the current ID trial_29\n",
      "The best trial is trial_29 with a loss of 0.0033334294155315317\n"
     ]
    }
   ],
   "source": [
    "exp_path = 'EM/EM_Exp5/'\n",
    "best_score = 1\n",
    "best_id = -999\n",
    "for i in range(30):\n",
    "    if i > 9:\n",
    "        f = open(exp_path+'tmp/'+exp_path[3:]+'trial_{}/trial.json'.format(str(i)))\n",
    "        curr_iter = json.load(f)\n",
    "        curr_score = curr_iter['score']\n",
    "        if curr_score == None:\n",
    "            continue\n",
    "        print('The best score is',best_score,'and the current score is',curr_score,'and the current ID','trial_{}'.format(str(i)))\n",
    "        if best_score>curr_score:\n",
    "            best_score=curr_score\n",
    "            best_id='trial_{}'.format(str(i))\n",
    "    else:\n",
    "        f = open(exp_path+'tmp/'+exp_path[3:]+'trial_0{}/trial.json'.format(str(i)))\n",
    "        curr_iter = json.load(f)\n",
    "        curr_score = curr_iter['score']\n",
    "        print('The best score is',best_score,'and the current score is',curr_score,'and the current ID','trial_0{}'.format(str(i)))\n",
    "        if best_score>curr_score:\n",
    "            best_score=curr_score\n",
    "            best_id='trial_0{}'.format(str(i))\n",
    "print('The best trial is',best_id,'with a loss of',best_score)"
   ]
  },
  {
   "cell_type": "code",
   "execution_count": 17,
   "metadata": {},
   "outputs": [
    {
     "data": {
      "text/html": [
       "<div>\n",
       "<style scoped>\n",
       "    .dataframe tbody tr th:only-of-type {\n",
       "        vertical-align: middle;\n",
       "    }\n",
       "\n",
       "    .dataframe tbody tr th {\n",
       "        vertical-align: top;\n",
       "    }\n",
       "\n",
       "    .dataframe thead th {\n",
       "        text-align: right;\n",
       "    }\n",
       "</style>\n",
       "<table border=\"1\" class=\"dataframe\">\n",
       "  <thead>\n",
       "    <tr style=\"text-align: right;\">\n",
       "      <th></th>\n",
       "      <th>hp_neigh_envelope</th>\n",
       "      <th>hp_num_complex_pairs</th>\n",
       "      <th>hp_num_real</th>\n",
       "      <th>hp_beta_units</th>\n",
       "      <th>hp_enc_dec_size</th>\n",
       "      <th>hp_delta_units</th>\n",
       "      <th>hp_l1_reg</th>\n",
       "    </tr>\n",
       "  </thead>\n",
       "  <tbody>\n",
       "    <tr>\n",
       "      <th>0</th>\n",
       "      <td>5</td>\n",
       "      <td>2</td>\n",
       "      <td>5</td>\n",
       "      <td>8</td>\n",
       "      <td>16</td>\n",
       "      <td>16</td>\n",
       "      <td>9.685692e-15</td>\n",
       "    </tr>\n",
       "  </tbody>\n",
       "</table>\n",
       "</div>"
      ],
      "text/plain": [
       "   hp_neigh_envelope  hp_num_complex_pairs  hp_num_real  hp_beta_units  \\\n",
       "0                  5                     2            5              8   \n",
       "\n",
       "   hp_enc_dec_size  hp_delta_units     hp_l1_reg  \n",
       "0               16              16  9.685692e-15  "
      ]
     },
     "execution_count": 17,
     "metadata": {},
     "output_type": "execute_result"
    }
   ],
   "source": [
    "best_id='trial_01'\n",
    "f = open(exp_path+'tmp/'+exp_path[3:]+best_id+'/trial.json')\n",
    "best_iter = json.load(f)\n",
    "best_parameters = pd.DataFrame(best_iter['hyperparameters']['values'], index=[0])\n",
    "best_parameters\n"
   ]
  },
  {
   "cell_type": "code",
   "execution_count": 5,
   "metadata": {},
   "outputs": [],
   "source": [
    "param_list = []\n",
    "score_list = []\n",
    "\n",
    "for i in range(20):\n",
    "    if i > 9:\n",
    "        best_id='trial_{}'.format(str(i))\n",
    "        f = open(exp_path+'tmp/'+exp_path[3:]+best_id+'/trial.json')\n",
    "    else:\n",
    "        best_id='trial_0{}'.format(str(i))\n",
    "        f = open(exp_path+'tmp/'+exp_path[3:]+best_id+'/trial.json')\n",
    "    best_iter = json.load(f)\n",
    "    best_parameters = pd.DataFrame(best_iter['hyperparameters']['values'], index=[0])\n",
    "\n",
    "    param_list.append(best_parameters)\n",
    "    score_list.append(best_iter['score'])"
   ]
  },
  {
   "cell_type": "code",
   "execution_count": 6,
   "metadata": {},
   "outputs": [
    {
     "data": {
      "text/plain": [
       "<matplotlib.collections.PathCollection at 0x274cf4d53c8>"
      ]
     },
     "execution_count": 6,
     "metadata": {},
     "output_type": "execute_result"
    },
    {
     "data": {
      "image/png": "[encoded data removed]",
      "text/plain": [
       "<Figure size 432x288 with 1 Axes>"
      ]
     },
     "metadata": {
      "needs_background": "light"
     },
     "output_type": "display_data"
    }
   ],
   "source": [
    "param_for_display = 'hp_neigh_envelope'\n",
    "\n",
    "x=[]\n",
    "y=[]\n",
    "\n",
    "for i in range(len(param_list)):\n",
    "    x.append(param_list[i][param_for_display].values[0])\n",
    "    y.append(score_list[i])\n",
    "    \n",
    "    \n",
    "plt.scatter(x,y)"
   ]
  },
  {
   "cell_type": "code",
   "execution_count": 18,
   "metadata": {},
   "outputs": [],
   "source": [
    "exp_data_path = exp_path+'sim_data/training/nb_neigh_{}/'.format(5)\n",
    "params={}\n",
    "\n",
    "### Experiment Parameters ###\n",
    "\n",
    "params['state_features'] = 1\n",
    "params['group_features'] = 3\n",
    "\n",
    "\n",
    "### Hyper Parameters ###\n",
    "params['hp_neigh_envelope'] = best_parameters['hp_neigh_envelope'].values[0]\n",
    "\n",
    "params['hp_num_neighbors'] = 50\n",
    "\n",
    "params['hp_num_complex_pairs'] = best_parameters['hp_num_complex_pairs'].values[0]\n",
    "params['hp_num_real'] = best_parameters['hp_num_real'].values[0]\n",
    "\n",
    "params['hp_beta_units'] = best_parameters['hp_beta_units'].values[0]\n",
    "\n",
    "enc_dec_size = best_parameters['hp_enc_dec_size'].values[0]\n",
    "params['hp_phi_enc_units'] = enc_dec_size\n",
    "params['hp_psi_enc_units'] = enc_dec_size\n",
    "params['hp_psi_dec_units'] = enc_dec_size\n",
    "\n",
    "params['hp_delta_units'] = best_parameters['hp_delta_units'].values[0]\n",
    "\n",
    "l1_reg = best_parameters['hp_l1_reg'].values[0]\n",
    "params['hp_l1_reg'] = l1_reg\n",
    "params['hp_l2_reg'] = l1_reg*1e-2"
   ]
  },
  {
   "cell_type": "code",
   "execution_count": 19,
   "metadata": {},
   "outputs": [],
   "source": [
    "ae, pipeline = net.pipeline(params)"
   ]
  },
  {
   "cell_type": "code",
   "execution_count": null,
   "metadata": {},
   "outputs": [],
   "source": [
    "x = np.load(exp_data_path+'x_head.npy')\n",
    "x_neigh = np.load(exp_data_path+'x_neigh_head.npy')\n",
    "x_plus = np.load(exp_data_path+'x_plus_head.npy')\n",
    "x_dot = np.load(exp_data_path+'x_dot_head.npy')\n",
    "x_dot_max = np.load(exp_data_path+'x_dot_head_max.npy')\n",
    "# x_dot = x_dot/x_dot.max()"
   ]
  },
  {
   "cell_type": "code",
   "execution_count": null,
   "metadata": {},
   "outputs": [],
   "source": [
    "x.shape,x_neigh.shape,x_plus.shape,x_dot.shape"
   ]
  },
  {
   "cell_type": "code",
   "execution_count": null,
   "metadata": {},
   "outputs": [],
   "source": [
    "x_dot_max"
   ]
  },
  {
   "cell_type": "code",
   "execution_count": null,
   "metadata": {},
   "outputs": [],
   "source": []
  },
  {
   "cell_type": "code",
   "execution_count": 21,
   "metadata": {},
   "outputs": [],
   "source": [
    "# pipeline.load_weights(exp_path+'Realizations/20230621-124537_pipeline.h5') #EM_Exp_1\n",
    "pipeline.load_weights(exp_path+'Realizations/20240312-153636_pipeline.h5') #EM_Exp_5"
   ]
  },
  {
   "cell_type": "code",
   "execution_count": 20,
   "metadata": {},
   "outputs": [
    {
     "data": {
      "image/png": "[encoded data removed]",
      "text/plain": [
       "<IPython.core.display.Image object>"
      ]
     },
     "execution_count": 20,
     "metadata": {},
     "output_type": "execute_result"
    }
   ],
   "source": [
    "from keras.utils.vis_utils import plot_model\n",
    "plot_model(pipeline, 'Result_Analysis/'+exp_path+\"Pipeline.png\", True, True)"
   ]
  },
  {
   "cell_type": "code",
   "execution_count": null,
   "metadata": {},
   "outputs": [],
   "source": [
    "# ####################\n",
    "# ### Test Dataset ###\n",
    "# ####################\n",
    "\n",
    "# ### Import Test Dataset ###\n",
    "\n",
    "# df_master = pd.read_csv(exp_path+'sim_data/test/test1.csv', sep=' ',names=['Time', 'Agent', 'X', 'Y', 'Heading'])\n",
    "# df_master.describe()"
   ]
  },
  {
   "cell_type": "code",
   "execution_count": null,
   "metadata": {},
   "outputs": [],
   "source": [
    "# ### Scale Test Dataset ###\n",
    "# X_min = -35.5\n",
    "# X_max = 35.5\n",
    "# Y_min = -35.5\n",
    "# Y_max = 35.5\n",
    "# Heading_min = 0\n",
    "# Heading_max = 360\n",
    "\n",
    "# df_scaled = df_master.copy()\n",
    "# df_scaled['X'] = ((df_master['X'] - X_min)/(X_max - X_min)).values\n",
    "# df_scaled['Y'] = ((df_master['Y'] - Y_min)/(Y_max - Y_min)).values\n",
    "# heads = []\n",
    "# for i in df_master['Heading'].values:\n",
    "#     if 90 - i != abs(90 - i):\n",
    "#         heads.append(450 - i)\n",
    "#     else:\n",
    "#         heads.append(90 - i)\n",
    "\n",
    "# df_scaled['Heading'] = heads\n",
    "# df_scaled['Heading'] = ((df_scaled['Heading'] - Heading_min)/(Heading_max - Heading_min)).values\n",
    "\n",
    "# nb_agents = df_scaled.Agent.max() + 1\n",
    "# nb_timesteps = df_scaled.Time.max() + 1\n",
    "\n",
    "# # for i in range(nb_agents):\n",
    "# #     counter = 0\n",
    "# #     diff_array = np.diff(df_scaled.loc[(df_scaled.Agent == i)].Heading)\n",
    "# #     for j in range(1,nb_timesteps):\n",
    "# #         if abs(diff_array[j-1]) > 0.5:\n",
    "# #             if diff_array[j-1]*-1 > 0:\n",
    "# #                 counter += 1\n",
    "# #             else:\n",
    "# #                 counter -= 1\n",
    "# #         df_scaled.loc[(df_scaled.Agent == i) & (df_scaled.Time == j),'Heading'] += counter \n",
    "\n",
    "# df_scaled.describe()"
   ]
  },
  {
   "cell_type": "code",
   "execution_count": null,
   "metadata": {},
   "outputs": [],
   "source": [
    "# x = np.load(exp_data_path+'x_head.npy')\n",
    "# x_neigh = np.load(exp_data_path+'x_neigh_head.npy')\n",
    "# x_plus = np.load(exp_data_path+'x_plus_head.npy')\n",
    "# x_dot = np.load(exp_data_path+'x_dot_head.npy')\n",
    "# x_dot_max = np.load(exp_data_path+'x_dot_head_max.npy')"
   ]
  },
  {
   "cell_type": "code",
   "execution_count": null,
   "metadata": {},
   "outputs": [],
   "source": [
    "# x_dot_max*360"
   ]
  },
  {
   "cell_type": "code",
   "execution_count": null,
   "metadata": {},
   "outputs": [],
   "source": [
    "# tsteps = df_scaled['Time'].unique().shape[0]-1\n",
    "# ag_nb = 100\n",
    "# np.sqrt(np.square(df_scaled.loc[(df_scaled.Agent == ag_nb) & (df_scaled.Time < tsteps)]['X'].values - df_scaled.loc[(df_scaled.Agent == ag_nb) & (df_scaled.Time < (tsteps+1)) & (df_scaled.Time > 0)]['X'].values) + np.square(df_scaled.loc[(df_scaled.Agent == ag_nb) & (df_scaled.Time < tsteps)]['Y'].values - df_scaled.loc[(df_scaled.Agent == ag_nb) & (df_scaled.Time < (tsteps+1)) & (df_scaled.Time > 0)]['Y'].values))"
   ]
  },
  {
   "cell_type": "code",
   "execution_count": null,
   "metadata": {},
   "outputs": [],
   "source": [
    "# df_scaled.loc[df_scaled['Time'] == 0,'X']= np.random.random(df_scaled.loc[df_scaled['Time'] == 0,'X'].size)\n",
    "# df_scaled.loc[df_scaled['Time'] == 0,'Y']= np.random.random(df_scaled.loc[df_scaled['Time'] == 0,'Y'].size)\n",
    "# df_scaled.loc[df_scaled['Time'] == 0,'Heading']= np.random.random(df_scaled.loc[df_scaled['Time'] == 0,'Heading'].size)"
   ]
  },
  {
   "cell_type": "code",
   "execution_count": null,
   "metadata": {},
   "outputs": [],
   "source": [
    "# df_scaled.loc[df_scaled['Time'] == 0]"
   ]
  },
  {
   "cell_type": "code",
   "execution_count": 10,
   "metadata": {},
   "outputs": [],
   "source": [
    "############################# Sim Visualization #################################\n",
    "import tkinter\n",
    "import math\n",
    "from PIL import Image, ImageTk\n",
    "\n",
    "class Boid:\n",
    "    def __init__(self, agent, screen_size, db):\n",
    "        self.ts = 0\n",
    "        self.agent = agent\n",
    "        self.x = db.loc[(db['Agent'] == self.agent) & (db['Time'] == self.ts)].X.values[0]*screen_size\n",
    "        self.y = db.loc[(db['Agent'] == self.agent) & (db['Time'] == self.ts)].Y.values[0]*screen_size\n",
    "        self.heading1 = np.arcsin(np.sin(db.loc[(db['Agent'] == self.agent) & (db['Time'] == self.ts)].Heading.values[0] *2*np.pi))\n",
    "        self.heading2 = np.arccos(np.cos(db.loc[(db['Agent'] == self.agent) & (db['Time'] == self.ts)].Heading.values[0] *2*np.pi))\n",
    "        self.color = \"black\"\n",
    "\n",
    "    def draw_boid(self, canvas):\n",
    "        size = 5\n",
    "        x1 = self.x + size * math.cos(self.heading2)\n",
    "        x2 = self.y + size * math.sin(self.heading1)\n",
    "        canvas.create_line(self.x, self.y, x1, x2, fill='black', arrow='last', arrowshape=(12.8,16,4.8), width=2, tags=self.agent)\n",
    "\n",
    "    def flock(self, canvas, db, screen_size, window):\n",
    "        if (self.ts + 5) <= db.Time.max():\n",
    "            self.ts += 5\n",
    "            self.x = db.loc[(db['Agent'] == self.agent) & (db['Time'] == self.ts)].X.values[0]*screen_size\n",
    "            self.y = db.loc[(db['Agent'] == self.agent) & (db['Time'] == self.ts)].Y.values[0]*screen_size\n",
    "            self.heading1 = np.arcsin(np.sin(db.loc[(db['Agent'] == self.agent) & (db['Time'] == self.ts)].Heading.values[0] *2*np.pi))\n",
    "            self.heading2 = np.arccos(np.cos(db.loc[(db['Agent'] == self.agent) & (db['Time'] == self.ts)].Heading.values[0] *2*np.pi))\n",
    "        else:\n",
    "            window.destroy()\n",
    "        \n",
    "        self.draw_boid(canvas)\n",
    "\n",
    "def initialise_canvas(window, screen_size):\n",
    "    canvas = tkinter.Canvas(window, width=screen_size, height=screen_size)\n",
    "    canvas.pack()\n",
    "    window.resizable(False, False)\n",
    "    return canvas\n",
    "\n",
    "def create_boids(canvas, no_of_boids, screen_size, db):\n",
    "    list_of_boids = []\n",
    "    for n in range(no_of_boids):\n",
    "        boid = Boid(n,screen_size,db)\n",
    "        list_of_boids.append(boid)\n",
    "        boid.draw_boid(canvas)\n",
    "    return list_of_boids\n",
    "\n",
    "def boid_behaviours(canvas, list_of_boids,db,screen_size,window,animation_path):\n",
    "    canvas.delete('all')\n",
    "    for boid in list_of_boids:\n",
    "        boid.flock(canvas,db,screen_size,window)\n",
    "        \n",
    "    canvas.postscript(file='Result_Analysis/'+exp_path+animation_path+\"my_sim_ts_{}.ps\".format(list_of_boids[0].ts), colormode='color')\n",
    "    canvas.after(1, boid_behaviours, canvas, list_of_boids,db,screen_size,window,animation_path)\n",
    "\n",
    "def vizualize(db,animation_path):\n",
    "    screen_size = 300\n",
    "    no_of_boids = int(db.Agent.max() + 1)\n",
    "    window = tkinter.Tk()\n",
    "    canvas = initialise_canvas(window, screen_size)\n",
    "    list_of_boids = create_boids(canvas, no_of_boids, screen_size, db)\n",
    "    boid_behaviours(canvas, list_of_boids,db,screen_size,window,animation_path)\n",
    "    window.mainloop()"
   ]
  },
  {
   "cell_type": "code",
   "execution_count": 11,
   "metadata": {},
   "outputs": [],
   "source": [
    "def sim_test_case(max_turn_angle,neigh_env,df_scaled,nb_timesteps):\n",
    "    ### Simulate Test Case ###\n",
    "    # df_scaled = df_scaled.loc[df_scaled['Case'] == 1].drop(['Case'],axis=1)\n",
    "    x_dot_max = max_turn_angle/360\n",
    "    df_initial_state = df_scaled.loc[df_scaled['Time'] == 0].copy()\n",
    "    nb_agents = df_scaled['Agent'].unique().shape[0]\n",
    "    agent_velocity = 0.0028169\n",
    "    for ts in range(1,nb_timesteps):\n",
    "        print('Simulating Time Step',ts,'out of',nb_timesteps-1)\n",
    "        flock = df_initial_state.loc[df_initial_state['Time']==ts-1][['X','Y']]\n",
    "        nbrs = NearestNeighbors(n_neighbors=params['hp_num_neighbors']+1, algorithm='ball_tree').fit(flock.values)\n",
    "        distances, indices = nbrs.kneighbors(flock.values)\n",
    "        for agent in range(nb_agents):\n",
    "            # Prepare sim inputs for current timestep using previous timestep\n",
    "\n",
    "            # neigbours = identify_neighbours(agent,df_initial_state,ts-1)\n",
    "            neigbours = indices[agent][1:]\n",
    "            nb_dist = distances[agent][1:]\n",
    "            # if agent == 0:\n",
    "            #     print(neigbours)\n",
    "            test_sim_x = data_prep.data_prep_x_group(agent,neigbours,nb_dist,df_initial_state,ts-1,k=params['hp_num_neighbors'],p=neigh_env)\n",
    "            test_sim_x = test_sim_x[np.newaxis,:]\n",
    "\n",
    "            test_x_head = np.reshape(np.asarray(test_sim_x)[:,0],(np.asarray(test_sim_x)[:,0].shape[0],-1))\n",
    "            test_x_neigh_head = np.asarray(test_sim_x)[:,1:]\n",
    "\n",
    "            old_x = df_initial_state.loc[(df_initial_state['Agent'] == agent) & (df_initial_state['Time'] == ts-1)]['X'].values[0]\n",
    "            old_y = df_initial_state.loc[(df_initial_state['Agent'] == agent) & (df_initial_state['Time'] == ts-1)]['Y'].values[0]\n",
    "            old_head = df_initial_state.loc[(df_initial_state['Agent'] == agent) & (df_initial_state['Time'] == ts-1)]['Heading'].values[0]\n",
    "\n",
    "            # Predict outputs for current timestep\n",
    "            y_pred = pipeline.predict([test_x_neigh_head,test_x_head])\n",
    "            new_head = y_pred[0][0]*x_dot_max + old_head\n",
    "            # if agent == 0:\n",
    "            #     print(new_head)\n",
    "\n",
    "            if(new_head>1):\n",
    "                new_head -= 1\n",
    "            elif(new_head<0):\n",
    "                new_head += 1\n",
    "\n",
    "            new_x = old_x + np.cos(2*np.pi*new_head)*agent_velocity\n",
    "\n",
    "            if(new_x>1):\n",
    "                new_x -= 1\n",
    "            elif(new_x<0):\n",
    "                new_x += 1\n",
    "\n",
    "            new_y = old_y + np.sin(2*np.pi*new_head)*agent_velocity\n",
    "            \n",
    "            if(new_y>1):\n",
    "                new_y -= 1\n",
    "            elif(new_y<0):\n",
    "                new_y += 1\n",
    "\n",
    "            df_initial_state = df_initial_state.append(pd.DataFrame(np.concatenate([np.asarray([ts,agent]), np.asarray([new_x,new_y,new_head])]).reshape(1,-1),columns=list(df_initial_state)),ignore_index=True)\n",
    "    \n",
    "    return df_initial_state"
   ]
  },
  {
   "cell_type": "code",
   "execution_count": null,
   "metadata": {},
   "outputs": [],
   "source": [
    "test_list = ['test3','test4','test5','test1','test2']\n",
    "neigh_env_list = [3,10]\n",
    "max_turn_list = [9,18]\n",
    "nb_timesteps = 301\n",
    "exp_path = 'EM/EM_Exp5/'\n",
    "# for test_case in test_list:\n",
    "def pred_testcase(test_case):\n",
    "    for neigh_env in neigh_env_list:\n",
    "        for max_turn in max_turn_list:\n",
    "            ####################\n",
    "            ### Test Dataset ###\n",
    "            ####################\n",
    "\n",
    "            ### Import Test Dataset ###\n",
    "\n",
    "            df_master = pd.read_csv(exp_path+'sim_data/test/{}.csv'.format(test_case), sep=' ',names=['Time', 'Agent', 'X', 'Y', 'Heading'])\n",
    "            # df_master.describe()\n",
    "\n",
    "            ### Scale Test Dataset ###\n",
    "            X_min = -35.5\n",
    "            X_max = 35.5\n",
    "            Y_min = -35.5\n",
    "            Y_max = 35.5\n",
    "            Heading_min = 0\n",
    "            Heading_max = 360\n",
    "\n",
    "            df_scaled = df_master.copy()\n",
    "            df_scaled['X'] = ((df_master['X'] - X_min)/(X_max - X_min)).values\n",
    "            df_scaled['Y'] = ((df_master['Y'] - Y_min)/(Y_max - Y_min)).values\n",
    "            heads = []\n",
    "            for i in df_master['Heading'].values:\n",
    "                if 90 - i != abs(90 - i):\n",
    "                    heads.append(450 - i)\n",
    "                else:\n",
    "                    heads.append(90 - i)\n",
    "\n",
    "            df_scaled['Heading'] = heads\n",
    "            df_scaled['Heading'] = ((df_scaled['Heading'] - Heading_min)/(Heading_max - Heading_min)).values\n",
    "\n",
    "            df_initial_state = sim_test_case(max_turn,neigh_env,df_scaled,nb_timesteps)\n",
    "            animation_path='Simulated_results_500ts_{}_{}p{}d/'.format(test_case,neigh_env,max_turn)\n",
    "            df_initial_state.to_pickle('Result_Analysis/'+exp_path+animation_path+'20240312_Simulated_results_500ts_{}_{}p{}d'.format(test_case,neigh_env,max_turn))\n",
    "\n",
    "            df_initial_state = pd.read_pickle('Result_Analysis/'+exp_path+animation_path+'20240312_Simulated_results_500ts_{}_{}p{}d'.format(test_case,neigh_env,max_turn))\n",
    "            vizualize(df_initial_state,animation_path)\n",
    "\n",
    "            for i in range(int((nb_timesteps-1)/5)):\n",
    "                psimage=Image.open('Result_Analysis/'+exp_path+animation_path+'my_sim_ts_{}.ps'.format(5*(i+1)))\n",
    "                psimage.save('Result_Analysis/'+exp_path+animation_path+'my_sim_ts_{}.png'.format(5*(i+1)))\n",
    "\n",
    "            video_name = 'Result_Analysis/'+exp_path+animation_path+'video.avi'\n",
    "\n",
    "            images = []\n",
    "            for i in range(3,int((nb_timesteps-1)/5)):\n",
    "                images.append('Result_Analysis/'+exp_path+animation_path+'my_sim_ts_{}.png'.format(5*(i+1)))\n",
    "            frame = cv2.imread(images[0])\n",
    "            height, width, layers = frame.shape\n",
    "\n",
    "            video = cv2.VideoWriter(video_name, 0, 3, (width,height))\n",
    "\n",
    "            for image in images:\n",
    "                video.write(cv2.imread(image))\n",
    "\n",
    "            cv2.destroyAllWindows()\n",
    "            video.release()\n",
    "            \n",
    "for x in test_list:\n",
    "    pred_testcase(x)"
   ]
  },
  {
   "cell_type": "code",
   "execution_count": 32,
   "metadata": {},
   "outputs": [
    {
     "name": "stdout",
     "output_type": "stream",
     "text": [
      "Test Case test5 Neighbour env 3 Max turn 9 ======= Growth rate 0.03 %\n",
      "Test Case test5 Neighbour env 3 Max turn 18 ======= Growth rate 0.18 %\n",
      "Test Case test5 Neighbour env 10 Max turn 9 ======= Growth rate 0.24 %\n",
      "Test Case test5 Neighbour env 10 Max turn 18 ======= Growth rate 0.28 %\n"
     ]
    },
    {
     "data": {
      "image/png": "[encoded data removed]",
      "text/plain": [
       "<Figure size 432x288 with 1 Axes>"
      ]
     },
     "metadata": {
      "needs_background": "light"
     },
     "output_type": "display_data"
    }
   ],
   "source": [
    "# test_list = ['test1','test2','test3','test4','test5']\n",
    "test_list = ['test5']\n",
    "neigh_env_list = [3,10]\n",
    "max_turn_list = [9,18]\n",
    "# neigh_env_list = [3]\n",
    "# max_turn_list = [9]\n",
    "nb_timesteps = 301\n",
    "exp_path = 'EM/EM_Exp5/'\n",
    "# plt.figure(figsize=(10,7))\n",
    "for test_case in test_list:\n",
    "    for neigh_env in neigh_env_list:\n",
    "        for max_turn in max_turn_list:\n",
    "            df_initial_state = pd.read_pickle('Result_Analysis/'+exp_path+'Simulated_results_500ts_{}_{}p{}d/'.format(test_case,neigh_env,max_turn)+'20240312_Simulated_results_500ts_{}_{}p{}d'.format(test_case,neigh_env,max_turn))\n",
    "            pred_pol_l = []\n",
    "            for ts in range(nb_timesteps):\n",
    "                pred_head = df_initial_state.loc[df_initial_state.Time == ts].Heading\n",
    "                pred_pol = np.sqrt((np.sum(np.sin(2*np.pi*pred_head)))**2 + (np.sum(np.cos(2*np.pi*pred_head)))**2)/(df_initial_state.Agent.max()+1)\n",
    "                pred_pol_l.append(pred_pol)\n",
    "            plt.plot(pred_pol_l,label='Radius={};Max Turning Angle={}deg'.format(test_case,neigh_env,max_turn))\n",
    "            plt.xlabel('Timesteps')\n",
    "            plt.ylabel('Polarization')\n",
    "            plt.legend()\n",
    "            print('Test Case {} Neighbour env {} Max turn {} ======= Growth rate {} %'.format(test_case,neigh_env,max_turn,np.round(np.mean(np.diff(pred_pol_l)[0:nb_timesteps])*100,2)))\n",
    "# plt.savefig('Result_Analysis/'+exp_path+'varying_emergence.png')\n"
   ]
  },
  {
   "cell_type": "code",
   "execution_count": null,
   "metadata": {},
   "outputs": [],
   "source": [
    "# for test_case in test_list:\n",
    "#     for neigh_env in neigh_env_list:\n",
    "#         for max_turn in max_turn_list:\n",
    "#             animation_path='Simulated_results_500ts_{}_{}p{}d/'.format(test_case,neigh_env,max_turn)\n",
    "#             df_initial_state = pd.read_pickle('Result_Analysis/'+exp_path+animation_path+'20240312_Simulated_results_500ts_{}_{}p{}d'.format(test_case,neigh_env,max_turn))\n",
    "#             vizualize(df_initial_state)\n",
    "\n",
    "#             for i in range(100):\n",
    "#                 psimage=Image.open('Result_Analysis/'+exp_path+animation_path+'my_sim_ts_{}.ps'.format(5*(i+1)))\n",
    "#                 psimage.save('Result_Analysis/'+exp_path+animation_path+'my_sim_ts_{}.png'.format(5*(i+1)))\n",
    "\n",
    "#             video_name = 'Result_Analysis/'+exp_path+animation_path+'video.avi'\n",
    "\n",
    "#             images = []\n",
    "#             for i in range(3,100):\n",
    "#                 images.append('Result_Analysis/'+exp_path+animation_path+'my_sim_ts_{}.png'.format(5*(i+1)))\n",
    "#             frame = cv2.imread(images[0])\n",
    "#             height, width, layers = frame.shape\n",
    "\n",
    "#             video = cv2.VideoWriter(video_name, 0, 3, (width,height))\n",
    "\n",
    "#             for image in images:\n",
    "#                 video.write(cv2.imread(image))\n",
    "\n",
    "#             cv2.destroyAllWindows()\n",
    "#             video.release()"
   ]
  },
  {
   "cell_type": "code",
   "execution_count": null,
   "metadata": {},
   "outputs": [],
   "source": [
    "df_initial_state.to_pickle('Result_Analysis/'+exp_path+'20240305_Simulated_results_500ts_test1_10p18d')\n",
    "# df_initial_state = pd.read_pickle('Result_Analysis/'+exp_path+'20240305_Simulated_results_500ts_test1_3p18d')"
   ]
  },
  {
   "cell_type": "code",
   "execution_count": null,
   "metadata": {},
   "outputs": [],
   "source": [
    "ag = 13\n",
    "err_thresh = 0.05\n",
    "plt.errorbar(range(nb_timesteps),df_scaled.loc[(df_scaled.Agent == ag) & (df_scaled.Time < nb_timesteps)].Heading,yerr=err_thresh,label='Observed')\n",
    "plt.plot(range(nb_timesteps), df_initial_state.loc[(df_initial_state.Agent == ag) & (df_initial_state.Time < nb_timesteps)].Heading,label='Simulated')\n",
    "plt.legend()"
   ]
  },
  {
   "cell_type": "code",
   "execution_count": null,
   "metadata": {},
   "outputs": [],
   "source": [
    "nb_timesteps = 100"
   ]
  },
  {
   "cell_type": "code",
   "execution_count": null,
   "metadata": {},
   "outputs": [],
   "source": [
    "for ag in range(200):\n",
    "    plt.plot(range(nb_timesteps), df_initial_state.loc[(df_initial_state.Agent == ag) & (df_initial_state.Time < nb_timesteps)].Heading,label='Simulated')"
   ]
  },
  {
   "cell_type": "code",
   "execution_count": null,
   "metadata": {},
   "outputs": [],
   "source": [
    "for ag in range(200):\n",
    "    plt.plot(range(301), df_scaled.loc[(df_scaled.Agent == ag) & (df_scaled.Time < 301)].Heading,label='Observed')"
   ]
  },
  {
   "cell_type": "code",
   "execution_count": null,
   "metadata": {},
   "outputs": [],
   "source": [
    "error_list = []\n",
    "for i in range(nb_timesteps):#df_scaled['Time'].unique().shape[0]):\n",
    "    pred = df_initial_state[df_initial_state.Time==i][['Heading']].values\n",
    "    true = df_scaled.loc[df_scaled.Time==i][['Heading']].values\n",
    "    error = np.mean(np.abs(pred-true))\n",
    "    error_list.append(error)\n",
    "\n",
    "plt.plot(error_list)\n",
    "plt.xscale('log')"
   ]
  },
  {
   "cell_type": "code",
   "execution_count": null,
   "metadata": {},
   "outputs": [],
   "source": [
    "error_list = []\n",
    "for i in range(nb_timesteps):\n",
    "    pred_X = df_initial_state[df_initial_state.Time==i][['X']].values\n",
    "    true_X = df_scaled.loc[df_scaled.Time==i][['X']].values\n",
    "    pred_Y = df_initial_state[df_initial_state.Time==i][['Y']].values\n",
    "    true_Y = df_scaled.loc[df_scaled.Time==i][['Y']].values\n",
    "    error = 0.5*(np.mean(np.abs(pred_X-true_X)) + np.mean(np.abs(pred_Y-true_Y)))\n",
    "    error_list.append(error)\n",
    "\n",
    "plt.plot(error_list)\n",
    "plt.xscale('log')"
   ]
  },
  {
   "cell_type": "code",
   "execution_count": null,
   "metadata": {},
   "outputs": [],
   "source": [
    "(np.array(error_list)<=0.05).sum()"
   ]
  },
  {
   "cell_type": "code",
   "execution_count": null,
   "metadata": {},
   "outputs": [],
   "source": [
    "t_step = 10\n",
    "bins = 8\n",
    "df_prediction = df_initial_state.loc[(df_initial_state.Time == t_step)]\n",
    "df_ground_truth = df_scaled.loc[(df_scaled.Time == t_step)]\n",
    "plt.imshow(stats.binned_statistic_2d(df_ground_truth.X, df_ground_truth.Y, None, 'count', bins=bins).statistic, interpolation='quadric', vmin=0,vmax=7)\n",
    "plt.colorbar()\n",
    "\n"
   ]
  },
  {
   "cell_type": "code",
   "execution_count": null,
   "metadata": {},
   "outputs": [],
   "source": [
    "plt.imshow(stats.binned_statistic_2d(df_prediction.X, df_prediction.Y, None, 'count', bins=bins).statistic, interpolation='quadric', vmin=0,vmax=7)\n",
    "plt.colorbar()"
   ]
  },
  {
   "cell_type": "code",
   "execution_count": null,
   "metadata": {},
   "outputs": [],
   "source": [
    "pred_pol_l = []\n",
    "obs_pol_l = []\n",
    "for ts in range(nb_timesteps):\n",
    "    pred_head = df_initial_state.loc[df_initial_state.Time == ts].Heading\n",
    "    obs_head = df_scaled.loc[df_scaled.Time == ts].Heading\n",
    "\n",
    "    pred_pol = np.sqrt((np.sum(np.sin(2*np.pi*pred_head)))**2 + (np.sum(np.cos(2*np.pi*pred_head)))**2)/(df_initial_state.Agent.max()+1)\n",
    "    obs_pol = np.sqrt((np.sum(np.sin(2*np.pi*obs_head)))**2 + (np.sum(np.cos(2*np.pi*obs_head)))**2)/(df_scaled.Agent.max()+1)\n",
    "\n",
    "    pred_pol_l.append(pred_pol)\n",
    "    obs_pol_l.append(obs_pol)"
   ]
  },
  {
   "cell_type": "code",
   "execution_count": null,
   "metadata": {},
   "outputs": [],
   "source": [
    "plt.plot(obs_pol_l,label='Observed')\n",
    "plt.plot(pred_pol_l,label='Simulated')\n",
    "plt.legend()"
   ]
  },
  {
   "cell_type": "code",
   "execution_count": null,
   "metadata": {},
   "outputs": [],
   "source": []
  },
  {
   "cell_type": "code",
   "execution_count": null,
   "metadata": {},
   "outputs": [],
   "source": []
  },
  {
   "cell_type": "code",
   "execution_count": null,
   "metadata": {},
   "outputs": [],
   "source": [
    "np.mean(np.diff(pred_pol_l)[0:100])*100"
   ]
  },
  {
   "cell_type": "code",
   "execution_count": null,
   "metadata": {},
   "outputs": [],
   "source": [
    "np.diff(pred_pol_l)[0:100]"
   ]
  },
  {
   "cell_type": "code",
   "execution_count": null,
   "metadata": {},
   "outputs": [],
   "source": []
  },
  {
   "cell_type": "code",
   "execution_count": null,
   "metadata": {},
   "outputs": [],
   "source": [
    "############################# Sim Visualization #################################\n",
    "import tkinter\n",
    "import math\n",
    "from PIL import Image, ImageTk\n",
    "\n",
    "class Boid:\n",
    "    def __init__(self, agent, screen_size, db):\n",
    "        self.ts = 0\n",
    "        self.agent = agent\n",
    "        self.x = db.loc[(db['Agent'] == self.agent) & (db['Time'] == self.ts)].X.values[0]*screen_size\n",
    "        self.y = db.loc[(db['Agent'] == self.agent) & (db['Time'] == self.ts)].Y.values[0]*screen_size\n",
    "        self.heading1 = np.arcsin(np.sin(db.loc[(db['Agent'] == self.agent) & (db['Time'] == self.ts)].Heading.values[0] *2*np.pi))\n",
    "        self.heading2 = np.arccos(np.cos(db.loc[(db['Agent'] == self.agent) & (db['Time'] == self.ts)].Heading.values[0] *2*np.pi))\n",
    "        self.color = \"black\"\n",
    "\n",
    "    def draw_boid(self, canvas):\n",
    "        size = 5\n",
    "        x1 = self.x + size * math.cos(self.heading2)\n",
    "        x2 = self.y + size * math.sin(self.heading1)\n",
    "        canvas.create_line(self.x, self.y, x1, x2, fill='black', arrow='last', arrowshape=(12.8,16,4.8), width=2, tags=self.agent)\n",
    "\n",
    "    def flock(self, canvas, db, screen_size, window):\n",
    "        if (self.ts + 5) <= db.Time.max():\n",
    "            self.ts += 5\n",
    "            self.x = db.loc[(db['Agent'] == self.agent) & (db['Time'] == self.ts)].X.values[0]*screen_size\n",
    "            self.y = db.loc[(db['Agent'] == self.agent) & (db['Time'] == self.ts)].Y.values[0]*screen_size\n",
    "            self.heading1 = np.arcsin(np.sin(db.loc[(db['Agent'] == self.agent) & (db['Time'] == self.ts)].Heading.values[0] *2*np.pi))\n",
    "            self.heading2 = np.arccos(np.cos(db.loc[(db['Agent'] == self.agent) & (db['Time'] == self.ts)].Heading.values[0] *2*np.pi))\n",
    "        else:\n",
    "            window.destroy()\n",
    "        \n",
    "        self.draw_boid(canvas)\n",
    "\n",
    "def initialise_canvas(window, screen_size):\n",
    "    canvas = tkinter.Canvas(window, width=screen_size, height=screen_size)\n",
    "    canvas.pack()\n",
    "    window.resizable(False, False)\n",
    "    return canvas\n",
    "\n",
    "def create_boids(canvas, no_of_boids, screen_size, db):\n",
    "    list_of_boids = []\n",
    "    for n in range(no_of_boids):\n",
    "        boid = Boid(n,screen_size,db)\n",
    "        list_of_boids.append(boid)\n",
    "        boid.draw_boid(canvas)\n",
    "    return list_of_boids\n",
    "\n",
    "def boid_behaviours(canvas, list_of_boids,db,screen_size,window,animation_path):\n",
    "    canvas.delete('all')\n",
    "    for boid in list_of_boids:\n",
    "        boid.flock(canvas,db,screen_size,window)\n",
    "        \n",
    "    canvas.postscript(file='Result_Analysis/'+exp_path+animation_path+\"my_sim_ts_{}.ps\".format(list_of_boids[0].ts), colormode='color')\n",
    "    canvas.after(1, boid_behaviours, canvas, list_of_boids,db,screen_size,window)\n",
    "\n",
    "def vizualize(db,animation_path):\n",
    "    screen_size = 300\n",
    "    no_of_boids = int(db.Agent.max() + 1)\n",
    "    window = tkinter.Tk()\n",
    "    canvas = initialise_canvas(window, screen_size)\n",
    "    list_of_boids = create_boids(canvas, no_of_boids, screen_size, db)\n",
    "    boid_behaviours(canvas, list_of_boids,db,screen_size,window,animation_path)\n",
    "    window.mainloop()"
   ]
  },
  {
   "cell_type": "code",
   "execution_count": null,
   "metadata": {},
   "outputs": [],
   "source": []
  },
  {
   "cell_type": "code",
   "execution_count": null,
   "metadata": {},
   "outputs": [],
   "source": []
  },
  {
   "cell_type": "code",
   "execution_count": null,
   "metadata": {},
   "outputs": [],
   "source": [
    "vizualize(df_initial_state)\n",
    "# vizualize(df_scaled)"
   ]
  },
  {
   "cell_type": "code",
   "execution_count": null,
   "metadata": {},
   "outputs": [],
   "source": [
    "from PIL import Image\n",
    "\n",
    "for i in range(100):\n",
    "    psimage=Image.open('Result_Analysis/'+exp_path+animation_path+'my_sim_ts_{}.ps'.format(5*(i+1)))\n",
    "    psimage.save('Result_Analysis/'+exp_path+animation_path+'my_sim_ts_{}.png'.format(5*(i+1)))"
   ]
  },
  {
   "cell_type": "code",
   "execution_count": null,
   "metadata": {},
   "outputs": [],
   "source": [
    "# import imageio\n",
    "# images = []\n",
    "# for i in range(3,100):\n",
    "#     images.append(imageio.imread('Result_Analysis/'+exp_path+'my_sim_ts_{}.png'.format(5*(i+1))))\n",
    "# imageio.mimsave('Result_Analysis/'+exp_path+'movie.gif', images)"
   ]
  },
  {
   "cell_type": "code",
   "execution_count": null,
   "metadata": {},
   "outputs": [],
   "source": [
    "import cv2\n",
    "import os\n",
    "\n",
    "image_folder = 'Result_Analysis/'+exp_path\n",
    "video_name = 'video.avi'\n",
    "\n",
    "# images = [img for img in os.listdir(image_folder) if img.endswith(\".png\")]\n",
    "images = []\n",
    "for i in range(3,100):\n",
    "    images.append('Result_Analysis/'+exp_path+animation_path+'my_sim_ts_{}.png'.format(5*(i+1)))\n",
    "frame = cv2.imread(images[0])\n",
    "height, width, layers = frame.shape\n",
    "\n",
    "video = cv2.VideoWriter(video_name, 0, 3, (width,height))\n",
    "\n",
    "for image in images:\n",
    "    video.write(cv2.imread(image))\n",
    "\n",
    "cv2.destroyAllWindows()\n",
    "video.release()"
   ]
  }
 ],
 "metadata": {
  "kernelspec": {
   "display_name": "Python 3",
   "language": "python",
   "name": "python3"
  },
  "language_info": {
   "codemirror_mode": {
    "name": "ipython",
    "version": 3
   },
   "file_extension": ".py",
   "mimetype": "text/x-python",
   "name": "python",
   "nbconvert_exporter": "python",
   "pygments_lexer": "ipython3",
   "version": "3.7.9"
  }
 },
 "nbformat": 4,
 "nbformat_minor": 4
}
