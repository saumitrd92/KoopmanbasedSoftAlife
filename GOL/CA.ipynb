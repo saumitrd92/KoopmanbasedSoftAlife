{
 "cells": [
  {
   "cell_type": "code",
   "execution_count": 1,
   "metadata": {},
   "outputs": [],
   "source": [
    "import pandas as pd\n",
    "import numpy as np\n",
    "import matplotlib.pyplot as plt"
   ]
  },
  {
   "cell_type": "code",
   "execution_count": 2,
   "metadata": {},
   "outputs": [],
   "source": [
    "def rule_gol(c,neighbours):\n",
    "    if c == 0:\n",
    "        if np.count_nonzero(neighbours) == 3:\n",
    "            return 1\n",
    "        else:\n",
    "            return 0\n",
    "    else:\n",
    "        if np.count_nonzero(neighbours) < 2:\n",
    "            return 0\n",
    "        elif np.count_nonzero(neighbours) > 3:\n",
    "            return 0\n",
    "        else:\n",
    "            return 1"
   ]
  },
  {
   "cell_type": "code",
   "execution_count": 20,
   "metadata": {},
   "outputs": [
    {
     "name": "stderr",
     "output_type": "stream",
     "text": [
      "C:\\Users\\sdw\\AppData\\Local\\Temp\\ipykernel_34944\\3157480024.py:9: VisibleDeprecationWarning: Creating an ndarray from ragged nested sequences (which is a list-or-tuple of lists-or-tuples-or ndarrays with different lengths or shapes) is deprecated. If you meant to do this, you must specify 'dtype=object' when creating the ndarray.\n",
      "  np.save('Experiments/sim_data/training/training{}.npy'.format(case),np.array([cell,[neigh],np.array(fs_list)]))\n"
     ]
    }
   ],
   "source": [
    "num_samples = 10000\n",
    "for case in range(1,11):\n",
    "    neigh = np.random.choice([0,1], (num_samples,8))\n",
    "    cell = np.random.choice([0,1], num_samples)\n",
    "    fs_list = []\n",
    "    for i in range(num_samples):\n",
    "        fs = rule_gol(cell[i], neigh[i])\n",
    "        fs_list.append(fs)\n",
    "    np.save('Experiments/sim_data/training/training{}.npy'.format(case),np.array([cell,[neigh],np.array(fs_list)]))"
   ]
  },
  {
   "cell_type": "code",
   "execution_count": 23,
   "metadata": {},
   "outputs": [],
   "source": [
    "np_load_old = np.load\n",
    "\n",
    "# modify the default parameters of np.load\n",
    "np.load = lambda *a,**k: np_load_old(*a, allow_pickle=True, **k)\n",
    "cell1, neigh1, fs1 = np.load('Experiments/sim_data/training/training1.npy')\n",
    "cell2, neigh2, fs2 = np.load('Experiments/sim_data/training/training2.npy')"
   ]
  },
  {
   "cell_type": "code",
   "execution_count": 24,
   "metadata": {},
   "outputs": [],
   "source": [
    "# restore np.load for future normal usage\n",
    "np.load = np_load_old"
   ]
  },
  {
   "cell_type": "code",
   "execution_count": 30,
   "metadata": {},
   "outputs": [],
   "source": [
    "neigh = np.concatenate((neigh1[0],neigh2[0]))\n",
    "cell = np.concatenate((cell1,cell2))"
   ]
  },
  {
   "cell_type": "code",
   "execution_count": 31,
   "metadata": {},
   "outputs": [
    {
     "data": {
      "text/plain": [
       "(20000,)"
      ]
     },
     "execution_count": 31,
     "metadata": {},
     "output_type": "execute_result"
    }
   ],
   "source": [
    "cell.shape"
   ]
  },
  {
   "cell_type": "code",
   "execution_count": 4,
   "metadata": {},
   "outputs": [],
   "source": [
    "# def CA_run_step(old_grid,size):\n",
    "#     new_grid = np.zeros((1,size))\n",
    "#     for j in range(1,size-1):\n",
    "#             p = old_grid[0,j-1]\n",
    "#             q = old_grid[0,j]\n",
    "#             r = old_grid[0,j+1]\n",
    "#             s = rule_30(p,q,r)\n",
    "#             new_grid[0,j] = s\n",
    "#     return new_grid"
   ]
  },
  {
   "cell_type": "code",
   "execution_count": null,
   "metadata": {},
   "outputs": [],
   "source": [
    "# l= []\n",
    "# size = 1001\n",
    "# grid = np.random.random_integers(0,high=1, size=(1,size))\n",
    "# # grid = np.zeros((1,size))\n",
    "# # grid[0,int((size+1)/2)] = 1\n",
    "# tsteps = 1000\n",
    "# tmp = []\n",
    "# tmp.append(grid)\n",
    "# for i in range(tsteps):\n",
    "#     grid = CA_run_step(grid,size)\n",
    "#     l.append(np.count_nonzero(grid)/(size-np.count_nonzero(grid)))\n",
    "#     tmp.append(grid)"
   ]
  },
  {
   "cell_type": "code",
   "execution_count": null,
   "metadata": {},
   "outputs": [],
   "source": [
    "# plt.semilogy(l)"
   ]
  },
  {
   "cell_type": "code",
   "execution_count": null,
   "metadata": {},
   "outputs": [],
   "source": [
    "# plt.plot(l)"
   ]
  },
  {
   "cell_type": "code",
   "execution_count": null,
   "metadata": {},
   "outputs": [],
   "source": [
    "# plt.imshow(np.asarray(tmp)[:10,0,496:507])"
   ]
  },
  {
   "cell_type": "code",
   "execution_count": null,
   "metadata": {},
   "outputs": [],
   "source": []
  }
 ],
 "metadata": {
  "kernelspec": {
   "display_name": "Python 3",
   "language": "python",
   "name": "python3"
  },
  "language_info": {
   "codemirror_mode": {
    "name": "ipython",
    "version": 3
   },
   "file_extension": ".py",
   "mimetype": "text/x-python",
   "name": "python",
   "nbconvert_exporter": "python",
   "pygments_lexer": "ipython3",
   "version": "3.8.10"
  },
  "orig_nbformat": 4
 },
 "nbformat": 4,
 "nbformat_minor": 2
}
